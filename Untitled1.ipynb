{
  "nbformat": 4,
  "nbformat_minor": 0,
  "metadata": {
    "colab": {
      "name": "Untitled1.ipynb",
      "provenance": [],
      "include_colab_link": true
    },
    "kernelspec": {
      "name": "python3",
      "display_name": "Python 3"
    }
  },
  "cells": [
    {
      "cell_type": "markdown",
      "metadata": {
        "id": "view-in-github",
        "colab_type": "text"
      },
      "source": [
        "<a href=\"https://colab.research.google.com/github/jcshim/Add/blob/master/Untitled1.ipynb\" target=\"_parent\"><img src=\"https://colab.research.google.com/assets/colab-badge.svg\" alt=\"Open In Colab\"/></a>"
      ]
    },
    {
      "cell_type": "code",
      "metadata": {
        "id": "4SZrSz0BUNBa",
        "colab_type": "code",
        "outputId": "aa2decd5-84c7-4b49-dd74-a2b98f0c68ba",
        "colab": {
          "base_uri": "https://localhost:8080/",
          "height": 251
        }
      },
      "source": [
        "import tensorflow as tf\n",
        "import numpy as np\n",
        "x_data = np.array(\n",
        "    [[0, 0], [1, 0], [1, 1], \n",
        "    [0, 0], [0, 0], [0, 1]])\n",
        "\n",
        "y_data = np.array([\n",
        "    [1, 0, 0],  # 기타\n",
        "    [0, 1, 0],  # 포유류\n",
        "    [0, 0, 1],  # 조류\n",
        "    [1, 0, 0],\n",
        "    [1, 0, 0],\n",
        "    [0, 0, 1]\n",
        "])\n",
        "X = tf.placeholder(tf.float32)\n",
        "Y = tf.placeholder(tf.float32)\n",
        "\n",
        "W1 = tf.Variable(tf.random_uniform([2, 10], -1., 1.))\n",
        "W2 = tf.Variable(tf.random_uniform([10, 3], -1., 1.))\n",
        "b1 = tf.Variable(tf.zeros([10]))\n",
        "b2 = tf.Variable(tf.zeros([3]))\n",
        "\n",
        "L1 = tf.add(tf.matmul(X, W1), b1)\n",
        "L1 = tf.nn.relu(L1)\n",
        "\n",
        "model = tf.add(tf.matmul(L1, W2), b2)\n",
        "\n",
        "cost = tf.reduce_mean(\n",
        "    tf.nn.softmax_cross_entropy_with_logits(labels=Y, logits=model))\n",
        "optimizer = tf.train.AdamOptimizer(learning_rate=0.01)\n",
        "train_op = optimizer.minimize(cost)\n",
        "\n",
        "#########\n",
        "# 신경망 모델 학습\n",
        "######\n",
        "init = tf.global_variables_initializer()\n",
        "sess = tf.Session()\n",
        "sess.run(init)\n",
        "\n",
        "for step in range(100):\n",
        "    sess.run(train_op, feed_dict={X: x_data, Y: y_data})\n",
        "\n",
        "    if (step + 1) % 10 == 0:\n",
        "        print(step + 1, sess.run(cost, feed_dict={X: x_data, Y: y_data}))\n",
        "#########\n",
        "# 결과 확인\n",
        "# 0: 기타 1: 포유류, 2: 조류\n",
        "######\n",
        "prediction = tf.argmax(model, 1)\n",
        "target = tf.argmax(Y, 1)\n",
        "print('예측값:', sess.run(prediction, feed_dict={X: x_data}))\n",
        "print('실제값:', sess.run(target, feed_dict={Y: y_data}))\n",
        "\n",
        "is_correct = tf.equal(prediction, target)\n",
        "accuracy = tf.reduce_mean(tf.cast(is_correct, tf.float32))\n",
        "print('정확도: %.2f' % sess.run(accuracy * 100, feed_dict={X: x_data, Y: y_data}))"
      ],
      "execution_count": 13,
      "outputs": [
        {
          "output_type": "stream",
          "text": [
            "10 0.89173436\n",
            "20 0.67237645\n",
            "30 0.5239086\n",
            "40 0.41735777\n",
            "50 0.33803406\n",
            "60 0.2804882\n",
            "70 0.23693138\n",
            "80 0.20277806\n",
            "90 0.1758353\n",
            "100 0.15384121\n",
            "예측값: [0 1 2 0 0 2]\n",
            "실제값: [0 1 2 0 0 2]\n",
            "정확도: 100.00\n"
          ],
          "name": "stdout"
        }
      ]
    }
  ]
}